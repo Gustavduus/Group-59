{
 "cells": [
  {
   "cell_type": "code",
   "execution_count": 1,
   "metadata": {},
   "outputs": [
    {
     "ename": "ModuleNotFoundError",
     "evalue": "No module named 'webdriver_manager'",
     "output_type": "error",
     "traceback": [
      "\u001b[1;31m---------------------------------------------------------------------------\u001b[0m",
      "\u001b[1;31mModuleNotFoundError\u001b[0m                       Traceback (most recent call last)",
      "\u001b[1;32m<ipython-input-1-a03580563813>\u001b[0m in \u001b[0;36m<module>\u001b[1;34m\u001b[0m\n\u001b[0;32m      1\u001b[0m \u001b[1;32mfrom\u001b[0m \u001b[0mselenium\u001b[0m \u001b[1;32mimport\u001b[0m \u001b[0mwebdriver\u001b[0m\u001b[1;33m\u001b[0m\u001b[1;33m\u001b[0m\u001b[0m\n\u001b[1;32m----> 2\u001b[1;33m \u001b[1;32mfrom\u001b[0m \u001b[0mwebdriver_manager\u001b[0m\u001b[1;33m.\u001b[0m\u001b[0mchrome\u001b[0m \u001b[1;32mimport\u001b[0m \u001b[0mChromeDriverManager\u001b[0m\u001b[1;33m\u001b[0m\u001b[1;33m\u001b[0m\u001b[0m\n\u001b[0m\u001b[0;32m      3\u001b[0m \u001b[1;32mimport\u001b[0m \u001b[0mtime\u001b[0m\u001b[1;33m\u001b[0m\u001b[1;33m\u001b[0m\u001b[0m\n\u001b[0;32m      4\u001b[0m \u001b[1;32mfrom\u001b[0m \u001b[0mbs4\u001b[0m \u001b[1;32mimport\u001b[0m \u001b[0mBeautifulSoup\u001b[0m\u001b[1;33m\u001b[0m\u001b[1;33m\u001b[0m\u001b[0m\n\u001b[0;32m      5\u001b[0m \u001b[1;32mimport\u001b[0m \u001b[0mtime\u001b[0m\u001b[1;33m\u001b[0m\u001b[1;33m\u001b[0m\u001b[0m\n",
      "\u001b[1;31mModuleNotFoundError\u001b[0m: No module named 'webdriver_manager'"
     ]
    }
   ],
   "source": [
    "from selenium import webdriver\n",
    "from webdriver_manager.chrome import ChromeDriverManager\n",
    "import time\n",
    "from bs4 import BeautifulSoup\n",
    "import time\n",
    " \n",
    "countdown=1\n",
    "\n",
    "\n",
    "start_time = time.time()\n",
    "url = 'https://jyllands-posten.dk/arkiv/?q=Mette+Frederiksen'\n",
    "driver = webdriver.Chrome(ChromeDriverManager().install())\n",
    "driver.get(url)\n",
    "\n",
    "time.sleep(3)\n",
    "\n",
    "\n",
    "lenOfPage = driver.execute_script(\"window.scrollTo(0, document.body.scrollHeight);var lenOfPage=document.body.scrollHeight;return lenOfPage;\")\n",
    "match=False\n",
    "\n",
    "\n",
    "while(match==False):\n",
    "    lastCount = lenOfPage\n",
    "    time.sleep(2)\n",
    "    driver.find_element_by_class_name(\"mereBtn\").click()\n",
    "    time.sleep(10)\n",
    "    lenOfPage = driver.execute_script(\"window.scrollTo(0, document.body.scrollHeight);var lenOfPage=document.body.scrollHeight;return lenOfPage;\")\n",
    "    countdown -= 1\n",
    "    if countdown < 1:\n",
    "        match=True\n",
    "                                           \n",
    "        \n",
    "time.sleep(3)\n",
    "\n",
    "soup = BeautifulSoup(driver.page_source, 'lxml')\n",
    "\n",
    "print(\"--- %s seconds ---\" % round((time.time() - start_time),2))"
   ]
  },
  {
   "cell_type": "code",
   "execution_count": 37,
   "metadata": {},
   "outputs": [
    {
     "name": "stdout",
     "output_type": "stream",
     "text": [
      "https://jyllands-posten.dk/briefing/\n",
      "https://jyllands-posten.dk/briefing/ECE12372115/dit-nyhedsoverblik-paa-to-minutter/\n",
      "https://jyllands-posten.dk/opinion/leder/\n",
      "https://jyllands-posten.dk/opinion/leder/ECE12364604/loeftebrud-paa-loeftebrud/\n",
      "https://jyllands-posten.dk/aarhus/\n",
      "https://jyllands-posten.dk/jpaarhus/ECE12371388/et-grimt-aar-for-smukfest/\n",
      "/?tags=tag%3Ahele_sagen.jp.dk%2C2011%3ASmukfest\n",
      "/?tags=tag%3Asystemtags.jp.dk%2C2017%3ARedaktion_JP_Aarhus\n",
      "/?tags=tag%3Asteder.jp.dk%2C2014%3ASkanderborg\n",
      "https://jyllands-posten.dk/politik/\n",
      "https://jyllands-posten.dk/politik/ECE12371682/partier-stoetter-radikales-kritik-af-regeringens-kulturpolitik/\n",
      "/?tags=tag%3Aorganisationer.jp.dk%2C2014%3ARegeringen_S\n",
      "/?tags=tag%3Ahele_sagen.jp.dk%2C2011%3AKulturpolitik\n",
      "https://jyllands-posten.dk/jpaarhus/opinion/breve/\n",
      "https://jyllands-posten.dk/jpaarhus/opinion/breve/ECE12365819/stop-den-somaliske-udskamning/\n",
      "/?tags=tag%3Ahele_sagen.jp.dk%2C2011%3ACorona_rammer_verden\n",
      "/?tags=tag%3Asteder.jp.dk%2C2014%3ASomalia\n",
      "/?tags=tag%3Ahele_sagen.jp.dk%2C2011%3ASomalisk_kulturforening\n",
      "https://jyllands-posten.dk/politik/\n",
      "https://jyllands-posten.dk/politik/ECE12370876/tre-partier-blev-ikke-inviteret-til-frederiksenmoede-om-fesagen/\n",
      "/?tags=tag%3Aorganisationer.jp.dk%2C2014%3AForsvarets_Efterretningstjeneste_FE_\n",
      "/?tags=tag%3Ahele_sagen.jp.dk%2C2011%3AForsvaret_H%25C3%25A6ren_S%25C3%25B8v%25C3%25A6rnet_Luftv%25C3%25A5bnet\n",
      "/?tags=tag%3Aorganisationer.jp.dk%2C2014%3AEnhedslisten\n",
      "/?tags=tag%3Aorganisationer.jp.dk%2C2014%3AAlternativet\n",
      "https://jyllands-posten.dk/opinion/international/\n",
      "https://jyllands-posten.dk/opinion/international/ECE12363959/sparebanden-i-eu-kan-blive-vigtig-for-danmark/\n",
      "/?tags=tag%3Ahele_sagen.jp.dk%2C2011%3ABrexit_-_britisk_farvel_til_EU_\n",
      "/?tags=tag%3Ahele_sagen.jp.dk%2C2011%3ACorona_rammer_verden\n",
      "https://jyllands-posten.dk/\n",
      "https://jyllands-posten.dk/ECE12368800/finansministeren-stormloeb-paa-tidlig-pension-vil-ikke-faa-regeringen-til-at-smaekke-kassen-i/\n",
      "/?tags=tag%3Apersoner.jp.dk%2C2014%3ANicolai_Wammen\n",
      "/?tags=tag%3Apersoner.jp.dk%2C2014%3ANaser_Khader\n",
      "https://jyllands-posten.dk/politik/\n",
      "https://jyllands-posten.dk/politik/ECE12368811/de-radikale-vil-skille-kulturministeriet-i-flere-dele/\n",
      "/?tags=tag%3Aorganisationer.jp.dk%2C2014%3ARadikale_Venstre\n",
      "/?tags=tag%3Aorganisationer.jp.dk%2C2014%3AKulturministeriet\n",
      "/?tags=tag%3Aorganisationer.jp.dk%2C2014%3ASocialdemokraterne\n",
      "https://jyllands-posten.dk/indland/\n",
      "https://jyllands-posten.dk/indland/ECE12366827/i-marts-blev-virksomhederne-fredet-nu-skal-de-betale-for-mere-politi/\n",
      "/?tags=tag%3Asystemtags.jp.dk%2C2017%3ARedaktion_Indland\n",
      "/?tags=tag%3Ahele_sagen.jp.dk%2C2011%3ACoronavirus\n",
      "/?tags=tag%3Apersoner.jp.dk%2C2014%3ATorsten_Schack_Pedersen\n",
      "/?tags=tag%3Apersoner.jp.dk%2C2014%3AMarcus_Knuth\n",
      "/?tags=tag%3Asystemtags.jp.dk%2C2017%3ARedaktion_anbefaler\n",
      "https://jyllands-posten.dk/politik/\n",
      "https://jyllands-posten.dk/politik/ECE12367424/regeringen-vil-haeve-virksomhedsafgift-for-at-finde-penge-til-mere-politi/\n",
      "/?tags=tag%3Asystemtags.jp.dk%2C2017%3ARedaktion_Indland\n",
      "/?tags=tag%3Ahele_sagen.jp.dk%2C2011%3ACoronavirus\n",
      "/?tags=tag%3Aorganisationer.jp.dk%2C2014%3ASocialdemokraterne\n",
      "https://jyllands-posten.dk/politik/\n",
      "https://jyllands-posten.dk/politik/ECE12368228/heunicke-nationalt-lager-har-haandsprit-til-mere-end-to-aar/\n",
      "/?tags=tag%3Asystemtags.jp.dk%2C2017%3ARedaktion_Indland\n",
      "/?tags=tag%3Apersoner.jp.dk%2C2014%3AMagnus_Heunicke\n",
      "/?tags=tag%3Ahele_sagen.jp.dk%2C2011%3ACoronavirus\n",
      "https://jyllands-posten.dk/politik/\n",
      "https://jyllands-posten.dk/politik/ECE12368070/minister-mere-politi-skal-sikres-med-faerre-biograf-og-busreklamer/\n",
      "/?tags=tag%3Ahele_sagen.jp.dk%2C2011%3APoliti\n",
      "/?tags=tag%3Apersoner.jp.dk%2C2014%3AAne_Halsboe_Larsen\n",
      "https://jyllands-posten.dk/politik/\n",
      "https://jyllands-posten.dk/politik/ECE12367515/minister-uddyber-pensionsudspil-ret-forsvinder-ved-seks-millioner/\n",
      "/?tags=tag%3Ahele_sagen.jp.dk%2C2011%3APension\n",
      "/?tags=tag%3Aorganisationer.jp.dk%2C2014%3ASocialdemokraterne\n",
      "/?tags=tag%3Aorganisationer.jp.dk%2C2014%3ABesk%25C3%25A6ftigelsesministeriet\n",
      "https://jyllands-posten.dk/politik/\n",
      "https://jyllands-posten.dk/politik/ECE12367430/mette-frederiksen-en-efterretningstjeneste-skal-arbejde-inden-for-lovens-rammer/\n",
      "/?tags=tag%3Aorganisationer.jp.dk%2C2014%3AForsvarets_Efterretningstjeneste_FE_\n",
      "/?tags=tag%3Apersoner.jp.dk%2C2014%3AMette_Frederiksen\n",
      "/?tags=tag%3Asystemtags.jp.dk%2C2017%3AGenre_Hot_story\n",
      "https://jyllands-posten.dk/opinion/breve/\n",
      "https://jyllands-posten.dk/opinion/breve/ECE12358028/pensionsudspil-med-usandheder-og-spin/\n",
      "/?tags=tag%3Ahele_sagen.jp.dk%2C2011%3APension\n",
      "/?tags=tag%3Ahele_sagen.jp.dk%2C2011%3ACoronavirus\n",
      "https://jyllands-posten.dk/politik/\n",
      "https://jyllands-posten.dk/politik/ECE12365567/stoettepartier-uddannelser-skal-ikke-finansiere-politiaftale/\n",
      "/?tags=tag%3Ahele_sagen.jp.dk%2C2011%3APoliti\n",
      "https://jyllands-posten.dk/opinion/leder/\n",
      "https://jyllands-posten.dk/opinion/leder/ECE12356903/regeringens-udlaendingepolitiske-kovending-gennemsyrer-udspil-til-nyt-politiforlig/\n",
      "/?tags=tag%3Apersoner.jp.dk%2C2014%3ANick_H%25C3%25A6kkerup\n",
      "/?tags=tag%3Apersoner.jp.dk%2C2014%3AMette_Frederiksen\n",
      "https://jyllands-posten.dk/indland/\n",
      "https://jyllands-posten.dk/indland/ECE12364014/mere-politi-til-det-naere-og-det-svaere-og-skolerne-skal-betale/\n",
      "/?tags=tag%3Asystemtags.jp.dk%2C2017%3ARedaktion_Indland\n",
      "/?tags=tag%3Aorganisationer.jp.dk%2C2014%3ARigspolitiet\n",
      "https://jyllands-posten.dk/opinion/kronik/\n",
      "https://jyllands-posten.dk/opinion/kronik/ECE12356936/saa-er-arne-reddet-men-hvad-med-jesper-og-alle-de-andre-syge/\n",
      "/?tags=tag%3Aorganisationer.jp.dk%2C2014%3ASocialstyrelsen\n",
      "/?tags=tag%3Ahele_sagen.jp.dk%2C2011%3ABesk%25C3%25A6ftigelse\n",
      "/?tags=tag%3Aorganisationer.jp.dk%2C2014%3ABesk%25C3%25A6ftigelsesministeriet\n",
      "/?tags=tag%3Ahele_sagen.jp.dk%2C2011%3APension\n",
      "/?tags=tag%3Ahele_sagen.jp.dk%2C2011%3ASygedagpenge\n",
      "/?tags=tag%3Ahele_sagen.jp.dk%2C2011%3Asygdom\n",
      "/?tags=tag%3Asystemtags.jp.dk%2C2017%3ARedaktion_Debat\n"
     ]
    }
   ],
   "source": [
    "trs = soup.find_all('article')\n",
    "\n",
    "links=[]\n",
    "\n",
    "for tr in trs:\n",
    "    for link in tr.find_all('a'):\n",
    "        fulllink = link.get ('href')\n",
    "        links.append(fulllink)\n",
    "        print(fulllink) "
   ]
  },
  {
   "cell_type": "code",
   "execution_count": 41,
   "metadata": {
    "scrolled": true
   },
   "outputs": [
    {
     "name": "stdout",
     "output_type": "stream",
     "text": [
      "['https://jyllands-posten.dk/briefing/', 'https://jyllands-posten.dk/briefing/ECE12372115/dit-nyhedsoverblik-paa-to-minutter/', 'https://jyllands-posten.dk/opinion/leder/', 'https://jyllands-posten.dk/opinion/leder/ECE12364604/loeftebrud-paa-loeftebrud/', 'https://jyllands-posten.dk/aarhus/', 'https://jyllands-posten.dk/jpaarhus/ECE12371388/et-grimt-aar-for-smukfest/', '/?tags=tag%3Ahele_sagen.jp.dk%2C2011%3ASmukfest', '/?tags=tag%3Asystemtags.jp.dk%2C2017%3ARedaktion_JP_Aarhus', '/?tags=tag%3Asteder.jp.dk%2C2014%3ASkanderborg', 'https://jyllands-posten.dk/politik/', 'https://jyllands-posten.dk/politik/ECE12371682/partier-stoetter-radikales-kritik-af-regeringens-kulturpolitik/', '/?tags=tag%3Aorganisationer.jp.dk%2C2014%3ARegeringen_S', '/?tags=tag%3Ahele_sagen.jp.dk%2C2011%3AKulturpolitik', 'https://jyllands-posten.dk/jpaarhus/opinion/breve/', 'https://jyllands-posten.dk/jpaarhus/opinion/breve/ECE12365819/stop-den-somaliske-udskamning/', '/?tags=tag%3Ahele_sagen.jp.dk%2C2011%3ACorona_rammer_verden', '/?tags=tag%3Asteder.jp.dk%2C2014%3ASomalia', '/?tags=tag%3Ahele_sagen.jp.dk%2C2011%3ASomalisk_kulturforening', 'https://jyllands-posten.dk/politik/', 'https://jyllands-posten.dk/politik/ECE12370876/tre-partier-blev-ikke-inviteret-til-frederiksenmoede-om-fesagen/', '/?tags=tag%3Aorganisationer.jp.dk%2C2014%3AForsvarets_Efterretningstjeneste_FE_', '/?tags=tag%3Ahele_sagen.jp.dk%2C2011%3AForsvaret_H%25C3%25A6ren_S%25C3%25B8v%25C3%25A6rnet_Luftv%25C3%25A5bnet', '/?tags=tag%3Aorganisationer.jp.dk%2C2014%3AEnhedslisten', '/?tags=tag%3Aorganisationer.jp.dk%2C2014%3AAlternativet', 'https://jyllands-posten.dk/opinion/international/', 'https://jyllands-posten.dk/opinion/international/ECE12363959/sparebanden-i-eu-kan-blive-vigtig-for-danmark/', '/?tags=tag%3Ahele_sagen.jp.dk%2C2011%3ABrexit_-_britisk_farvel_til_EU_', '/?tags=tag%3Ahele_sagen.jp.dk%2C2011%3ACorona_rammer_verden', 'https://jyllands-posten.dk/', 'https://jyllands-posten.dk/ECE12368800/finansministeren-stormloeb-paa-tidlig-pension-vil-ikke-faa-regeringen-til-at-smaekke-kassen-i/', '/?tags=tag%3Apersoner.jp.dk%2C2014%3ANicolai_Wammen', '/?tags=tag%3Apersoner.jp.dk%2C2014%3ANaser_Khader', 'https://jyllands-posten.dk/politik/', 'https://jyllands-posten.dk/politik/ECE12368811/de-radikale-vil-skille-kulturministeriet-i-flere-dele/', '/?tags=tag%3Aorganisationer.jp.dk%2C2014%3ARadikale_Venstre', '/?tags=tag%3Aorganisationer.jp.dk%2C2014%3AKulturministeriet', '/?tags=tag%3Aorganisationer.jp.dk%2C2014%3ASocialdemokraterne', 'https://jyllands-posten.dk/indland/', 'https://jyllands-posten.dk/indland/ECE12366827/i-marts-blev-virksomhederne-fredet-nu-skal-de-betale-for-mere-politi/', '/?tags=tag%3Asystemtags.jp.dk%2C2017%3ARedaktion_Indland', '/?tags=tag%3Ahele_sagen.jp.dk%2C2011%3ACoronavirus', '/?tags=tag%3Apersoner.jp.dk%2C2014%3ATorsten_Schack_Pedersen', '/?tags=tag%3Apersoner.jp.dk%2C2014%3AMarcus_Knuth', '/?tags=tag%3Asystemtags.jp.dk%2C2017%3ARedaktion_anbefaler', 'https://jyllands-posten.dk/politik/', 'https://jyllands-posten.dk/politik/ECE12367424/regeringen-vil-haeve-virksomhedsafgift-for-at-finde-penge-til-mere-politi/', '/?tags=tag%3Asystemtags.jp.dk%2C2017%3ARedaktion_Indland', '/?tags=tag%3Ahele_sagen.jp.dk%2C2011%3ACoronavirus', '/?tags=tag%3Aorganisationer.jp.dk%2C2014%3ASocialdemokraterne', 'https://jyllands-posten.dk/politik/', 'https://jyllands-posten.dk/politik/ECE12368228/heunicke-nationalt-lager-har-haandsprit-til-mere-end-to-aar/', '/?tags=tag%3Asystemtags.jp.dk%2C2017%3ARedaktion_Indland', '/?tags=tag%3Apersoner.jp.dk%2C2014%3AMagnus_Heunicke', '/?tags=tag%3Ahele_sagen.jp.dk%2C2011%3ACoronavirus', 'https://jyllands-posten.dk/politik/', 'https://jyllands-posten.dk/politik/ECE12368070/minister-mere-politi-skal-sikres-med-faerre-biograf-og-busreklamer/', '/?tags=tag%3Ahele_sagen.jp.dk%2C2011%3APoliti', '/?tags=tag%3Apersoner.jp.dk%2C2014%3AAne_Halsboe_Larsen', 'https://jyllands-posten.dk/politik/', 'https://jyllands-posten.dk/politik/ECE12367515/minister-uddyber-pensionsudspil-ret-forsvinder-ved-seks-millioner/', '/?tags=tag%3Ahele_sagen.jp.dk%2C2011%3APension', '/?tags=tag%3Aorganisationer.jp.dk%2C2014%3ASocialdemokraterne', '/?tags=tag%3Aorganisationer.jp.dk%2C2014%3ABesk%25C3%25A6ftigelsesministeriet', 'https://jyllands-posten.dk/politik/', 'https://jyllands-posten.dk/politik/ECE12367430/mette-frederiksen-en-efterretningstjeneste-skal-arbejde-inden-for-lovens-rammer/', '/?tags=tag%3Aorganisationer.jp.dk%2C2014%3AForsvarets_Efterretningstjeneste_FE_', '/?tags=tag%3Apersoner.jp.dk%2C2014%3AMette_Frederiksen', '/?tags=tag%3Asystemtags.jp.dk%2C2017%3AGenre_Hot_story', 'https://jyllands-posten.dk/opinion/breve/', 'https://jyllands-posten.dk/opinion/breve/ECE12358028/pensionsudspil-med-usandheder-og-spin/', '/?tags=tag%3Ahele_sagen.jp.dk%2C2011%3APension', '/?tags=tag%3Ahele_sagen.jp.dk%2C2011%3ACoronavirus', 'https://jyllands-posten.dk/politik/', 'https://jyllands-posten.dk/politik/ECE12365567/stoettepartier-uddannelser-skal-ikke-finansiere-politiaftale/', '/?tags=tag%3Ahele_sagen.jp.dk%2C2011%3APoliti', 'https://jyllands-posten.dk/opinion/leder/', 'https://jyllands-posten.dk/opinion/leder/ECE12356903/regeringens-udlaendingepolitiske-kovending-gennemsyrer-udspil-til-nyt-politiforlig/', '/?tags=tag%3Apersoner.jp.dk%2C2014%3ANick_H%25C3%25A6kkerup', '/?tags=tag%3Apersoner.jp.dk%2C2014%3AMette_Frederiksen', 'https://jyllands-posten.dk/indland/', 'https://jyllands-posten.dk/indland/ECE12364014/mere-politi-til-det-naere-og-det-svaere-og-skolerne-skal-betale/', '/?tags=tag%3Asystemtags.jp.dk%2C2017%3ARedaktion_Indland', '/?tags=tag%3Aorganisationer.jp.dk%2C2014%3ARigspolitiet', 'https://jyllands-posten.dk/opinion/kronik/', 'https://jyllands-posten.dk/opinion/kronik/ECE12356936/saa-er-arne-reddet-men-hvad-med-jesper-og-alle-de-andre-syge/', '/?tags=tag%3Aorganisationer.jp.dk%2C2014%3ASocialstyrelsen', '/?tags=tag%3Ahele_sagen.jp.dk%2C2011%3ABesk%25C3%25A6ftigelse', '/?tags=tag%3Aorganisationer.jp.dk%2C2014%3ABesk%25C3%25A6ftigelsesministeriet', '/?tags=tag%3Ahele_sagen.jp.dk%2C2011%3APension', '/?tags=tag%3Ahele_sagen.jp.dk%2C2011%3ASygedagpenge', '/?tags=tag%3Ahele_sagen.jp.dk%2C2011%3Asygdom', '/?tags=tag%3Asystemtags.jp.dk%2C2017%3ARedaktion_Debat']\n"
     ]
    }
   ],
   "source": [
    "print(links)"
   ]
  },
  {
   "cell_type": "code",
   "execution_count": 55,
   "metadata": {},
   "outputs": [],
   "source": [
    "urls=[]\n",
    "\n",
    "pref = '/'\n",
    "for word in links[:]: \n",
    "    if word.startswith(pref): \n",
    "        links=links.remove(word)\n",
    "        url.append(links)"
   ]
  },
  {
   "cell_type": "code",
   "execution_count": 56,
   "metadata": {},
   "outputs": [
    {
     "name": "stdout",
     "output_type": "stream",
     "text": [
      "[]\n"
     ]
    }
   ],
   "source": [
    "print(urls)"
   ]
  },
  {
   "cell_type": "code",
   "execution_count": 25,
   "metadata": {},
   "outputs": [
    {
     "ename": "MissingSchema",
     "evalue": "Invalid URL 'h': No schema supplied. Perhaps you meant http://h?",
     "output_type": "error",
     "traceback": [
      "\u001b[1;31m---------------------------------------------------------------------------\u001b[0m",
      "\u001b[1;31mMissingSchema\u001b[0m                             Traceback (most recent call last)",
      "\u001b[1;32m<ipython-input-25-be1eaf595dca>\u001b[0m in \u001b[0;36m<module>\u001b[1;34m\u001b[0m\n\u001b[0;32m      7\u001b[0m \u001b[1;33m\u001b[0m\u001b[0m\n\u001b[0;32m      8\u001b[0m \u001b[1;32mfor\u001b[0m \u001b[0mi\u001b[0m \u001b[1;32min\u001b[0m \u001b[0mrange\u001b[0m\u001b[1;33m(\u001b[0m\u001b[1;36m2\u001b[0m\u001b[1;33m)\u001b[0m\u001b[1;33m:\u001b[0m \u001b[1;31m#len(urls)\u001b[0m\u001b[1;33m\u001b[0m\u001b[1;33m\u001b[0m\u001b[0m\n\u001b[1;32m----> 9\u001b[1;33m     \u001b[0mresponse\u001b[0m \u001b[1;33m=\u001b[0m \u001b[0mrequests\u001b[0m\u001b[1;33m.\u001b[0m\u001b[0mget\u001b[0m\u001b[1;33m(\u001b[0m\u001b[0murls\u001b[0m\u001b[1;33m[\u001b[0m\u001b[0mi\u001b[0m\u001b[1;33m]\u001b[0m\u001b[1;33m)\u001b[0m\u001b[1;33m\u001b[0m\u001b[1;33m\u001b[0m\u001b[0m\n\u001b[0m\u001b[0;32m     10\u001b[0m     \u001b[0msoup\u001b[0m \u001b[1;33m=\u001b[0m \u001b[0mBeautifulSoup\u001b[0m\u001b[1;33m(\u001b[0m\u001b[0mhtml\u001b[0m\u001b[1;33m,\u001b[0m \u001b[1;34m\"html.parser\"\u001b[0m\u001b[1;33m)\u001b[0m\u001b[1;33m\u001b[0m\u001b[1;33m\u001b[0m\u001b[0m\n\u001b[0;32m     11\u001b[0m     \u001b[0mtitle\u001b[0m\u001b[1;33m.\u001b[0m\u001b[0mappend\u001b[0m\u001b[1;33m(\u001b[0m\u001b[0msoup\u001b[0m\u001b[1;33m.\u001b[0m\u001b[0mfind\u001b[0m\u001b[1;33m(\u001b[0m\u001b[1;34m'span'\u001b[0m\u001b[1;33m,\u001b[0m \u001b[1;33m{\u001b[0m\u001b[1;34m'class'\u001b[0m\u001b[1;33m:\u001b[0m \u001b[1;34m'artView__top__info__title'\u001b[0m\u001b[1;33m}\u001b[0m\u001b[1;33m)\u001b[0m\u001b[1;33m.\u001b[0m\u001b[0mtext\u001b[0m\u001b[1;33m)\u001b[0m\u001b[1;33m\u001b[0m\u001b[1;33m\u001b[0m\u001b[0m\n",
      "\u001b[1;32mC:\\ProgramData\\Anaconda3\\lib\\site-packages\\requests\\api.py\u001b[0m in \u001b[0;36mget\u001b[1;34m(url, params, **kwargs)\u001b[0m\n\u001b[0;32m     74\u001b[0m \u001b[1;33m\u001b[0m\u001b[0m\n\u001b[0;32m     75\u001b[0m     \u001b[0mkwargs\u001b[0m\u001b[1;33m.\u001b[0m\u001b[0msetdefault\u001b[0m\u001b[1;33m(\u001b[0m\u001b[1;34m'allow_redirects'\u001b[0m\u001b[1;33m,\u001b[0m \u001b[1;32mTrue\u001b[0m\u001b[1;33m)\u001b[0m\u001b[1;33m\u001b[0m\u001b[1;33m\u001b[0m\u001b[0m\n\u001b[1;32m---> 76\u001b[1;33m     \u001b[1;32mreturn\u001b[0m \u001b[0mrequest\u001b[0m\u001b[1;33m(\u001b[0m\u001b[1;34m'get'\u001b[0m\u001b[1;33m,\u001b[0m \u001b[0murl\u001b[0m\u001b[1;33m,\u001b[0m \u001b[0mparams\u001b[0m\u001b[1;33m=\u001b[0m\u001b[0mparams\u001b[0m\u001b[1;33m,\u001b[0m \u001b[1;33m**\u001b[0m\u001b[0mkwargs\u001b[0m\u001b[1;33m)\u001b[0m\u001b[1;33m\u001b[0m\u001b[1;33m\u001b[0m\u001b[0m\n\u001b[0m\u001b[0;32m     77\u001b[0m \u001b[1;33m\u001b[0m\u001b[0m\n\u001b[0;32m     78\u001b[0m \u001b[1;33m\u001b[0m\u001b[0m\n",
      "\u001b[1;32mC:\\ProgramData\\Anaconda3\\lib\\site-packages\\requests\\api.py\u001b[0m in \u001b[0;36mrequest\u001b[1;34m(method, url, **kwargs)\u001b[0m\n\u001b[0;32m     59\u001b[0m     \u001b[1;31m# cases, and look like a memory leak in others.\u001b[0m\u001b[1;33m\u001b[0m\u001b[1;33m\u001b[0m\u001b[1;33m\u001b[0m\u001b[0m\n\u001b[0;32m     60\u001b[0m     \u001b[1;32mwith\u001b[0m \u001b[0msessions\u001b[0m\u001b[1;33m.\u001b[0m\u001b[0mSession\u001b[0m\u001b[1;33m(\u001b[0m\u001b[1;33m)\u001b[0m \u001b[1;32mas\u001b[0m \u001b[0msession\u001b[0m\u001b[1;33m:\u001b[0m\u001b[1;33m\u001b[0m\u001b[1;33m\u001b[0m\u001b[0m\n\u001b[1;32m---> 61\u001b[1;33m         \u001b[1;32mreturn\u001b[0m \u001b[0msession\u001b[0m\u001b[1;33m.\u001b[0m\u001b[0mrequest\u001b[0m\u001b[1;33m(\u001b[0m\u001b[0mmethod\u001b[0m\u001b[1;33m=\u001b[0m\u001b[0mmethod\u001b[0m\u001b[1;33m,\u001b[0m \u001b[0murl\u001b[0m\u001b[1;33m=\u001b[0m\u001b[0murl\u001b[0m\u001b[1;33m,\u001b[0m \u001b[1;33m**\u001b[0m\u001b[0mkwargs\u001b[0m\u001b[1;33m)\u001b[0m\u001b[1;33m\u001b[0m\u001b[1;33m\u001b[0m\u001b[0m\n\u001b[0m\u001b[0;32m     62\u001b[0m \u001b[1;33m\u001b[0m\u001b[0m\n\u001b[0;32m     63\u001b[0m \u001b[1;33m\u001b[0m\u001b[0m\n",
      "\u001b[1;32mC:\\ProgramData\\Anaconda3\\lib\\site-packages\\requests\\sessions.py\u001b[0m in \u001b[0;36mrequest\u001b[1;34m(self, method, url, params, data, headers, cookies, files, auth, timeout, allow_redirects, proxies, hooks, stream, verify, cert, json)\u001b[0m\n\u001b[0;32m    514\u001b[0m             \u001b[0mhooks\u001b[0m\u001b[1;33m=\u001b[0m\u001b[0mhooks\u001b[0m\u001b[1;33m,\u001b[0m\u001b[1;33m\u001b[0m\u001b[1;33m\u001b[0m\u001b[0m\n\u001b[0;32m    515\u001b[0m         )\n\u001b[1;32m--> 516\u001b[1;33m         \u001b[0mprep\u001b[0m \u001b[1;33m=\u001b[0m \u001b[0mself\u001b[0m\u001b[1;33m.\u001b[0m\u001b[0mprepare_request\u001b[0m\u001b[1;33m(\u001b[0m\u001b[0mreq\u001b[0m\u001b[1;33m)\u001b[0m\u001b[1;33m\u001b[0m\u001b[1;33m\u001b[0m\u001b[0m\n\u001b[0m\u001b[0;32m    517\u001b[0m \u001b[1;33m\u001b[0m\u001b[0m\n\u001b[0;32m    518\u001b[0m         \u001b[0mproxies\u001b[0m \u001b[1;33m=\u001b[0m \u001b[0mproxies\u001b[0m \u001b[1;32mor\u001b[0m \u001b[1;33m{\u001b[0m\u001b[1;33m}\u001b[0m\u001b[1;33m\u001b[0m\u001b[1;33m\u001b[0m\u001b[0m\n",
      "\u001b[1;32mC:\\ProgramData\\Anaconda3\\lib\\site-packages\\requests\\sessions.py\u001b[0m in \u001b[0;36mprepare_request\u001b[1;34m(self, request)\u001b[0m\n\u001b[0;32m    447\u001b[0m \u001b[1;33m\u001b[0m\u001b[0m\n\u001b[0;32m    448\u001b[0m         \u001b[0mp\u001b[0m \u001b[1;33m=\u001b[0m \u001b[0mPreparedRequest\u001b[0m\u001b[1;33m(\u001b[0m\u001b[1;33m)\u001b[0m\u001b[1;33m\u001b[0m\u001b[1;33m\u001b[0m\u001b[0m\n\u001b[1;32m--> 449\u001b[1;33m         p.prepare(\n\u001b[0m\u001b[0;32m    450\u001b[0m             \u001b[0mmethod\u001b[0m\u001b[1;33m=\u001b[0m\u001b[0mrequest\u001b[0m\u001b[1;33m.\u001b[0m\u001b[0mmethod\u001b[0m\u001b[1;33m.\u001b[0m\u001b[0mupper\u001b[0m\u001b[1;33m(\u001b[0m\u001b[1;33m)\u001b[0m\u001b[1;33m,\u001b[0m\u001b[1;33m\u001b[0m\u001b[1;33m\u001b[0m\u001b[0m\n\u001b[0;32m    451\u001b[0m             \u001b[0murl\u001b[0m\u001b[1;33m=\u001b[0m\u001b[0mrequest\u001b[0m\u001b[1;33m.\u001b[0m\u001b[0murl\u001b[0m\u001b[1;33m,\u001b[0m\u001b[1;33m\u001b[0m\u001b[1;33m\u001b[0m\u001b[0m\n",
      "\u001b[1;32mC:\\ProgramData\\Anaconda3\\lib\\site-packages\\requests\\models.py\u001b[0m in \u001b[0;36mprepare\u001b[1;34m(self, method, url, headers, files, data, params, auth, cookies, hooks, json)\u001b[0m\n\u001b[0;32m    312\u001b[0m \u001b[1;33m\u001b[0m\u001b[0m\n\u001b[0;32m    313\u001b[0m         \u001b[0mself\u001b[0m\u001b[1;33m.\u001b[0m\u001b[0mprepare_method\u001b[0m\u001b[1;33m(\u001b[0m\u001b[0mmethod\u001b[0m\u001b[1;33m)\u001b[0m\u001b[1;33m\u001b[0m\u001b[1;33m\u001b[0m\u001b[0m\n\u001b[1;32m--> 314\u001b[1;33m         \u001b[0mself\u001b[0m\u001b[1;33m.\u001b[0m\u001b[0mprepare_url\u001b[0m\u001b[1;33m(\u001b[0m\u001b[0murl\u001b[0m\u001b[1;33m,\u001b[0m \u001b[0mparams\u001b[0m\u001b[1;33m)\u001b[0m\u001b[1;33m\u001b[0m\u001b[1;33m\u001b[0m\u001b[0m\n\u001b[0m\u001b[0;32m    315\u001b[0m         \u001b[0mself\u001b[0m\u001b[1;33m.\u001b[0m\u001b[0mprepare_headers\u001b[0m\u001b[1;33m(\u001b[0m\u001b[0mheaders\u001b[0m\u001b[1;33m)\u001b[0m\u001b[1;33m\u001b[0m\u001b[1;33m\u001b[0m\u001b[0m\n\u001b[0;32m    316\u001b[0m         \u001b[0mself\u001b[0m\u001b[1;33m.\u001b[0m\u001b[0mprepare_cookies\u001b[0m\u001b[1;33m(\u001b[0m\u001b[0mcookies\u001b[0m\u001b[1;33m)\u001b[0m\u001b[1;33m\u001b[0m\u001b[1;33m\u001b[0m\u001b[0m\n",
      "\u001b[1;32mC:\\ProgramData\\Anaconda3\\lib\\site-packages\\requests\\models.py\u001b[0m in \u001b[0;36mprepare_url\u001b[1;34m(self, url, params)\u001b[0m\n\u001b[0;32m    386\u001b[0m             \u001b[0merror\u001b[0m \u001b[1;33m=\u001b[0m \u001b[0merror\u001b[0m\u001b[1;33m.\u001b[0m\u001b[0mformat\u001b[0m\u001b[1;33m(\u001b[0m\u001b[0mto_native_string\u001b[0m\u001b[1;33m(\u001b[0m\u001b[0murl\u001b[0m\u001b[1;33m,\u001b[0m \u001b[1;34m'utf8'\u001b[0m\u001b[1;33m)\u001b[0m\u001b[1;33m)\u001b[0m\u001b[1;33m\u001b[0m\u001b[1;33m\u001b[0m\u001b[0m\n\u001b[0;32m    387\u001b[0m \u001b[1;33m\u001b[0m\u001b[0m\n\u001b[1;32m--> 388\u001b[1;33m             \u001b[1;32mraise\u001b[0m \u001b[0mMissingSchema\u001b[0m\u001b[1;33m(\u001b[0m\u001b[0merror\u001b[0m\u001b[1;33m)\u001b[0m\u001b[1;33m\u001b[0m\u001b[1;33m\u001b[0m\u001b[0m\n\u001b[0m\u001b[0;32m    389\u001b[0m \u001b[1;33m\u001b[0m\u001b[0m\n\u001b[0;32m    390\u001b[0m         \u001b[1;32mif\u001b[0m \u001b[1;32mnot\u001b[0m \u001b[0mhost\u001b[0m\u001b[1;33m:\u001b[0m\u001b[1;33m\u001b[0m\u001b[1;33m\u001b[0m\u001b[0m\n",
      "\u001b[1;31mMissingSchema\u001b[0m: Invalid URL 'h': No schema supplied. Perhaps you meant http://h?"
     ]
    }
   ],
   "source": [
    "# scraping articles\n",
    "\n",
    "import requests\n",
    "\n",
    "title = []\n",
    "date = []\n",
    "text = []\n",
    "\n",
    "for i in range(2): #len(urls)\n",
    "    response = requests.get(urls[i])\n",
    "    soup = BeautifulSoup(html, \"html.parser\")\n",
    "    title.append(soup.find('span', {'class': 'artView__top__info__title'}).text)\n",
    "    date.append(soup.find('span', {'class': 'artView__top__info__time'}).text)\n",
    "    text.append(soup.find('span', {'class': 'artView__text__content artView__text__content--first ng-star-inserted'}).text)\n",
    "\n",
    "df = pd.DataFrame({'title':title, \n",
    "                   'date':date, \n",
    "                   'text':text})\n",
    "df"
   ]
  },
  {
   "cell_type": "code",
   "execution_count": null,
   "metadata": {},
   "outputs": [],
   "source": []
  }
 ],
 "metadata": {
  "kernelspec": {
   "display_name": "Python 3",
   "language": "python",
   "name": "python3"
  },
  "language_info": {
   "codemirror_mode": {
    "name": "ipython",
    "version": 3
   },
   "file_extension": ".py",
   "mimetype": "text/x-python",
   "name": "python",
   "nbconvert_exporter": "python",
   "pygments_lexer": "ipython3",
   "version": "3.8.3"
  }
 },
 "nbformat": 4,
 "nbformat_minor": 4
}
